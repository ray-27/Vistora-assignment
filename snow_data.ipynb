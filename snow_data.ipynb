{
 "cells": [
  {
   "cell_type": "code",
   "execution_count": 1,
   "id": "5ce2a634",
   "metadata": {},
   "outputs": [
    {
     "name": "stdout",
     "output_type": "stream",
     "text": [
      "Requirement already satisfied: pandas in ./venv/lib/python3.9/site-packages (from -r requirement.txt (line 1)) (2.3.1)\n",
      "Requirement already satisfied: snowflake-connector-python in ./venv/lib/python3.9/site-packages (from -r requirement.txt (line 2)) (3.16.0)\n",
      "Requirement already satisfied: python-dotenv in ./venv/lib/python3.9/site-packages (from -r requirement.txt (line 3)) (1.1.1)\n",
      "Requirement already satisfied: snowflake-snowpark-python in ./venv/lib/python3.9/site-packages (from -r requirement.txt (line 4)) (1.35.0)\n",
      "Requirement already satisfied: snowflake-ml-python in ./venv/lib/python3.9/site-packages (from -r requirement.txt (line 5)) (1.9.1)\n",
      "Requirement already satisfied: scikit-learn in ./venv/lib/python3.9/site-packages (from -r requirement.txt (line 6)) (1.5.2)\n",
      "Requirement already satisfied: tzdata>=2022.7 in ./venv/lib/python3.9/site-packages (from pandas->-r requirement.txt (line 1)) (2025.2)\n",
      "Requirement already satisfied: pytz>=2020.1 in ./venv/lib/python3.9/site-packages (from pandas->-r requirement.txt (line 1)) (2025.2)\n",
      "Requirement already satisfied: numpy>=1.22.4 in ./venv/lib/python3.9/site-packages (from pandas->-r requirement.txt (line 1)) (2.0.2)\n",
      "Requirement already satisfied: python-dateutil>=2.8.2 in ./venv/lib/python3.9/site-packages (from pandas->-r requirement.txt (line 1)) (2.9.0.post0)\n",
      "Requirement already satisfied: botocore>=1.24 in ./venv/lib/python3.9/site-packages (from snowflake-connector-python->-r requirement.txt (line 2)) (1.39.8)\n",
      "Requirement already satisfied: asn1crypto<2.0.0,>0.24.0 in ./venv/lib/python3.9/site-packages (from snowflake-connector-python->-r requirement.txt (line 2)) (1.5.1)\n",
      "Requirement already satisfied: pyjwt<3.0.0 in ./venv/lib/python3.9/site-packages (from snowflake-connector-python->-r requirement.txt (line 2)) (2.10.1)\n",
      "Requirement already satisfied: boto3>=1.24 in ./venv/lib/python3.9/site-packages (from snowflake-connector-python->-r requirement.txt (line 2)) (1.39.8)\n",
      "Requirement already satisfied: idna<4,>=2.5 in ./venv/lib/python3.9/site-packages (from snowflake-connector-python->-r requirement.txt (line 2)) (3.10)\n",
      "Requirement already satisfied: sortedcontainers>=2.4.0 in ./venv/lib/python3.9/site-packages (from snowflake-connector-python->-r requirement.txt (line 2)) (2.4.0)\n",
      "Requirement already satisfied: requests<3.0.0 in ./venv/lib/python3.9/site-packages (from snowflake-connector-python->-r requirement.txt (line 2)) (2.32.4)\n",
      "Requirement already satisfied: certifi>=2017.4.17 in ./venv/lib/python3.9/site-packages (from snowflake-connector-python->-r requirement.txt (line 2)) (2025.7.14)\n",
      "Requirement already satisfied: urllib3<2.0.0,>=1.21.1 in ./venv/lib/python3.9/site-packages (from snowflake-connector-python->-r requirement.txt (line 2)) (1.26.20)\n",
      "Requirement already satisfied: charset_normalizer<4,>=2 in ./venv/lib/python3.9/site-packages (from snowflake-connector-python->-r requirement.txt (line 2)) (3.4.2)\n",
      "Requirement already satisfied: filelock<4,>=3.5 in ./venv/lib/python3.9/site-packages (from snowflake-connector-python->-r requirement.txt (line 2)) (3.18.0)\n",
      "Requirement already satisfied: tomlkit in ./venv/lib/python3.9/site-packages (from snowflake-connector-python->-r requirement.txt (line 2)) (0.13.3)\n",
      "Requirement already satisfied: pyOpenSSL<26.0.0,>=22.0.0 in ./venv/lib/python3.9/site-packages (from snowflake-connector-python->-r requirement.txt (line 2)) (25.1.0)\n",
      "Requirement already satisfied: packaging in ./venv/lib/python3.9/site-packages (from snowflake-connector-python->-r requirement.txt (line 2)) (24.2)\n",
      "Requirement already satisfied: cryptography>=3.1.0 in ./venv/lib/python3.9/site-packages (from snowflake-connector-python->-r requirement.txt (line 2)) (45.0.5)\n",
      "Requirement already satisfied: cffi<2.0.0,>=1.9 in ./venv/lib/python3.9/site-packages (from snowflake-connector-python->-r requirement.txt (line 2)) (1.17.1)\n",
      "Requirement already satisfied: platformdirs<5.0.0,>=2.6.0 in ./venv/lib/python3.9/site-packages (from snowflake-connector-python->-r requirement.txt (line 2)) (4.3.8)\n",
      "Requirement already satisfied: typing_extensions<5,>=4.3 in ./venv/lib/python3.9/site-packages (from snowflake-connector-python->-r requirement.txt (line 2)) (4.14.1)\n",
      "Requirement already satisfied: pyyaml in ./venv/lib/python3.9/site-packages (from snowflake-snowpark-python->-r requirement.txt (line 4)) (6.0.2)\n",
      "Requirement already satisfied: setuptools>=40.6.0 in ./venv/lib/python3.9/site-packages (from snowflake-snowpark-python->-r requirement.txt (line 4)) (58.1.0)\n",
      "Requirement already satisfied: tzlocal in ./venv/lib/python3.9/site-packages (from snowflake-snowpark-python->-r requirement.txt (line 4)) (5.3.1)\n",
      "Requirement already satisfied: wheel in ./venv/lib/python3.9/site-packages (from snowflake-snowpark-python->-r requirement.txt (line 4)) (0.45.1)\n",
      "Requirement already satisfied: cloudpickle!=2.1.0,!=2.2.0,<=3.0.0,>=1.6.0 in ./venv/lib/python3.9/site-packages (from snowflake-snowpark-python->-r requirement.txt (line 4)) (3.0.0)\n",
      "Requirement already satisfied: protobuf<6,>=3.20 in ./venv/lib/python3.9/site-packages (from snowflake-snowpark-python->-r requirement.txt (line 4)) (5.29.5)\n",
      "Requirement already satisfied: importlib_resources<7,>=6.1.1 in ./venv/lib/python3.9/site-packages (from snowflake-ml-python->-r requirement.txt (line 5)) (6.5.2)\n",
      "Requirement already satisfied: pyarrow in ./venv/lib/python3.9/site-packages (from snowflake-ml-python->-r requirement.txt (line 5)) (18.1.0)\n",
      "Requirement already satisfied: cachetools<6,>=3.1.1 in ./venv/lib/python3.9/site-packages (from snowflake-ml-python->-r requirement.txt (line 5)) (5.5.2)\n",
      "Requirement already satisfied: snowflake.core<2,>=1.0.2 in ./venv/lib/python3.9/site-packages (from snowflake-ml-python->-r requirement.txt (line 5)) (1.6.0)\n",
      "Requirement already satisfied: pytimeparse<2,>=1.1.8 in ./venv/lib/python3.9/site-packages (from snowflake-ml-python->-r requirement.txt (line 5)) (1.1.8)\n",
      "Requirement already satisfied: sqlparse<1,>=0.4 in ./venv/lib/python3.9/site-packages (from snowflake-ml-python->-r requirement.txt (line 5)) (0.5.3)\n",
      "Requirement already satisfied: xgboost<3,>=1.7.3 in ./venv/lib/python3.9/site-packages (from snowflake-ml-python->-r requirement.txt (line 5)) (2.1.4)\n",
      "Requirement already satisfied: anyio<5,>=3.5.0 in ./venv/lib/python3.9/site-packages (from snowflake-ml-python->-r requirement.txt (line 5)) (4.9.0)\n",
      "Requirement already satisfied: s3fs<2026,>=2024.6.1 in ./venv/lib/python3.9/site-packages (from snowflake-ml-python->-r requirement.txt (line 5)) (2025.7.0)\n",
      "Requirement already satisfied: shap<1,>=0.46.0 in ./venv/lib/python3.9/site-packages (from snowflake-ml-python->-r requirement.txt (line 5)) (0.48.0)\n",
      "Requirement already satisfied: pydantic<3,>=2.8.2 in ./venv/lib/python3.9/site-packages (from snowflake-ml-python->-r requirement.txt (line 5)) (2.11.7)\n",
      "Requirement already satisfied: absl-py<2,>=0.15 in ./venv/lib/python3.9/site-packages (from snowflake-ml-python->-r requirement.txt (line 5)) (1.4.0)\n",
      "Requirement already satisfied: tqdm<5 in ./venv/lib/python3.9/site-packages (from snowflake-ml-python->-r requirement.txt (line 5)) (4.67.1)\n",
      "Requirement already satisfied: fsspec[http]<2026,>=2024.6.1 in ./venv/lib/python3.9/site-packages (from snowflake-ml-python->-r requirement.txt (line 5)) (2025.7.0)\n",
      "Requirement already satisfied: scipy<2,>=1.9 in ./venv/lib/python3.9/site-packages (from snowflake-ml-python->-r requirement.txt (line 5)) (1.13.1)\n",
      "Requirement already satisfied: retrying<2,>=1.3.3 in ./venv/lib/python3.9/site-packages (from snowflake-ml-python->-r requirement.txt (line 5)) (1.4.1)\n",
      "Requirement already satisfied: joblib>=1.2.0 in ./venv/lib/python3.9/site-packages (from scikit-learn->-r requirement.txt (line 6)) (1.5.1)\n",
      "Requirement already satisfied: threadpoolctl>=3.1.0 in ./venv/lib/python3.9/site-packages (from scikit-learn->-r requirement.txt (line 6)) (3.6.0)\n",
      "Requirement already satisfied: sniffio>=1.1 in ./venv/lib/python3.9/site-packages (from anyio<5,>=3.5.0->snowflake-ml-python->-r requirement.txt (line 5)) (1.3.1)\n",
      "Requirement already satisfied: exceptiongroup>=1.0.2 in ./venv/lib/python3.9/site-packages (from anyio<5,>=3.5.0->snowflake-ml-python->-r requirement.txt (line 5)) (1.3.0)\n",
      "Requirement already satisfied: jmespath<2.0.0,>=0.7.1 in ./venv/lib/python3.9/site-packages (from boto3>=1.24->snowflake-connector-python->-r requirement.txt (line 2)) (1.0.1)\n",
      "Requirement already satisfied: s3transfer<0.14.0,>=0.13.0 in ./venv/lib/python3.9/site-packages (from boto3>=1.24->snowflake-connector-python->-r requirement.txt (line 2)) (0.13.1)\n",
      "Requirement already satisfied: pycparser in ./venv/lib/python3.9/site-packages (from cffi<2.0.0,>=1.9->snowflake-connector-python->-r requirement.txt (line 2)) (2.22)\n",
      "Requirement already satisfied: aiohttp!=4.0.0a0,!=4.0.0a1 in ./venv/lib/python3.9/site-packages (from fsspec[http]<2026,>=2024.6.1->snowflake-ml-python->-r requirement.txt (line 5)) (3.12.14)\n",
      "Requirement already satisfied: frozenlist>=1.1.1 in ./venv/lib/python3.9/site-packages (from aiohttp!=4.0.0a0,!=4.0.0a1->fsspec[http]<2026,>=2024.6.1->snowflake-ml-python->-r requirement.txt (line 5)) (1.7.0)\n",
      "Requirement already satisfied: propcache>=0.2.0 in ./venv/lib/python3.9/site-packages (from aiohttp!=4.0.0a0,!=4.0.0a1->fsspec[http]<2026,>=2024.6.1->snowflake-ml-python->-r requirement.txt (line 5)) (0.3.2)\n",
      "Requirement already satisfied: async-timeout<6.0,>=4.0 in ./venv/lib/python3.9/site-packages (from aiohttp!=4.0.0a0,!=4.0.0a1->fsspec[http]<2026,>=2024.6.1->snowflake-ml-python->-r requirement.txt (line 5)) (5.0.1)\n",
      "Requirement already satisfied: yarl<2.0,>=1.17.0 in ./venv/lib/python3.9/site-packages (from aiohttp!=4.0.0a0,!=4.0.0a1->fsspec[http]<2026,>=2024.6.1->snowflake-ml-python->-r requirement.txt (line 5)) (1.20.1)\n",
      "Requirement already satisfied: multidict<7.0,>=4.5 in ./venv/lib/python3.9/site-packages (from aiohttp!=4.0.0a0,!=4.0.0a1->fsspec[http]<2026,>=2024.6.1->snowflake-ml-python->-r requirement.txt (line 5)) (6.6.3)\n",
      "Requirement already satisfied: aiosignal>=1.4.0 in ./venv/lib/python3.9/site-packages (from aiohttp!=4.0.0a0,!=4.0.0a1->fsspec[http]<2026,>=2024.6.1->snowflake-ml-python->-r requirement.txt (line 5)) (1.4.0)\n",
      "Requirement already satisfied: aiohappyeyeballs>=2.5.0 in ./venv/lib/python3.9/site-packages (from aiohttp!=4.0.0a0,!=4.0.0a1->fsspec[http]<2026,>=2024.6.1->snowflake-ml-python->-r requirement.txt (line 5)) (2.6.1)\n",
      "Requirement already satisfied: attrs>=17.3.0 in ./venv/lib/python3.9/site-packages (from aiohttp!=4.0.0a0,!=4.0.0a1->fsspec[http]<2026,>=2024.6.1->snowflake-ml-python->-r requirement.txt (line 5)) (25.3.0)\n",
      "Requirement already satisfied: zipp>=3.1.0 in ./venv/lib/python3.9/site-packages (from importlib_resources<7,>=6.1.1->snowflake-ml-python->-r requirement.txt (line 5)) (3.23.0)\n",
      "Requirement already satisfied: typing-inspection>=0.4.0 in ./venv/lib/python3.9/site-packages (from pydantic<3,>=2.8.2->snowflake-ml-python->-r requirement.txt (line 5)) (0.4.1)\n",
      "Requirement already satisfied: annotated-types>=0.6.0 in ./venv/lib/python3.9/site-packages (from pydantic<3,>=2.8.2->snowflake-ml-python->-r requirement.txt (line 5)) (0.7.0)\n",
      "Requirement already satisfied: pydantic-core==2.33.2 in ./venv/lib/python3.9/site-packages (from pydantic<3,>=2.8.2->snowflake-ml-python->-r requirement.txt (line 5)) (2.33.2)\n",
      "Requirement already satisfied: six>=1.5 in ./venv/lib/python3.9/site-packages (from python-dateutil>=2.8.2->pandas->-r requirement.txt (line 1)) (1.17.0)\n",
      "Requirement already satisfied: aiobotocore<3.0.0,>=2.5.4 in ./venv/lib/python3.9/site-packages (from s3fs<2026,>=2024.6.1->snowflake-ml-python->-r requirement.txt (line 5)) (2.23.2)\n",
      "Requirement already satisfied: wrapt<2.0.0,>=1.10.10 in ./venv/lib/python3.9/site-packages (from aiobotocore<3.0.0,>=2.5.4->s3fs<2026,>=2024.6.1->snowflake-ml-python->-r requirement.txt (line 5)) (1.17.2)\n",
      "Requirement already satisfied: aioitertools<1.0.0,>=0.5.1 in ./venv/lib/python3.9/site-packages (from aiobotocore<3.0.0,>=2.5.4->s3fs<2026,>=2024.6.1->snowflake-ml-python->-r requirement.txt (line 5)) (0.12.0)\n",
      "Requirement already satisfied: numba>=0.54 in ./venv/lib/python3.9/site-packages (from shap<1,>=0.46.0->snowflake-ml-python->-r requirement.txt (line 5)) (0.60.0)\n",
      "Requirement already satisfied: slicer==0.0.8 in ./venv/lib/python3.9/site-packages (from shap<1,>=0.46.0->snowflake-ml-python->-r requirement.txt (line 5)) (0.0.8)\n",
      "Requirement already satisfied: llvmlite<0.44,>=0.43.0dev0 in ./venv/lib/python3.9/site-packages (from numba>=0.54->shap<1,>=0.46.0->snowflake-ml-python->-r requirement.txt (line 5)) (0.43.0)\n",
      "\u001b[33mWARNING: You are using pip version 21.2.4; however, version 25.1.1 is available.\n",
      "You should consider upgrading via the '/Users/rajveeryadav/Desktop/Vistora/venv/bin/python3 -m pip install --upgrade pip' command.\u001b[0m\n"
     ]
    }
   ],
   "source": [
    "!pip install -r requirement.txt"
   ]
  },
  {
   "cell_type": "code",
   "execution_count": 2,
   "id": "a466f983",
   "metadata": {},
   "outputs": [],
   "source": [
    "import snowflake.connector"
   ]
  },
  {
   "cell_type": "code",
   "execution_count": 3,
   "id": "43316b04",
   "metadata": {},
   "outputs": [],
   "source": [
    "import os\n",
    "from dotenv import load_dotenv"
   ]
  },
  {
   "cell_type": "markdown",
   "id": "bf2987a0",
   "metadata": {},
   "source": [
    "Load the SnowFlake credentials like account details"
   ]
  },
  {
   "cell_type": "code",
   "execution_count": 4,
   "id": "ce3d32eb",
   "metadata": {},
   "outputs": [],
   "source": [
    "load_dotenv(\".env\")\n",
    "\n",
    "user_name = os.getenv('SNOW_USER')\n",
    "password = os.getenv('SNOW_PASS')\n",
    "account = os.getenv('SNOW_ACCOUNT')\n",
    "warehouse = os.getenv('warehouse')\n",
    "snow_database = os.getenv('database')\n",
    "snow_schema = os.getenv('schema')"
   ]
  },
  {
   "cell_type": "markdown",
   "id": "4581a7c2",
   "metadata": {},
   "source": [
    "Create a connection"
   ]
  },
  {
   "cell_type": "code",
   "execution_count": 5,
   "id": "95c4b072",
   "metadata": {},
   "outputs": [],
   "source": [
    "conn = snowflake.connector.connect(\n",
    "    user=user_name,\n",
    "    password=password,\n",
    "    account=account,\n",
    "    warehouse=warehouse,\n",
    "    database=snow_database,\n",
    "    schema=snow_schema\n",
    ")"
   ]
  },
  {
   "cell_type": "markdown",
   "id": "883da00e",
   "metadata": {},
   "source": [
    "# Fetching the raw data from SnowFlake using SQL and pandas"
   ]
  },
  {
   "cell_type": "code",
   "execution_count": 6,
   "id": "ef83cb7a",
   "metadata": {},
   "outputs": [],
   "source": [
    "import pandas as pd"
   ]
  },
  {
   "cell_type": "code",
   "execution_count": 7,
   "id": "51479bba",
   "metadata": {},
   "outputs": [],
   "source": [
    "# fetching and preprocessing table sql script\n",
    "with open('snow_preprocessing_script.sql', 'r') as file:\n",
    "    sql_query = file.read()"
   ]
  },
  {
   "cell_type": "code",
   "execution_count": 8,
   "id": "4c8f2d37",
   "metadata": {},
   "outputs": [
    {
     "name": "stderr",
     "output_type": "stream",
     "text": [
      "/var/folders/cz/lky96vlx5b3gt97txms5jymm0000gn/T/ipykernel_99073/4280099553.py:1: UserWarning: pandas only supports SQLAlchemy connectable (engine/connection) or database string URI or sqlite3 DBAPI2 connection. Other DBAPI2 objects are not tested. Please consider using SQLAlchemy.\n",
      "  df = pd.read_sql(sql_query, conn)\n"
     ]
    }
   ],
   "source": [
    "df = pd.read_sql(sql_query, conn)"
   ]
  },
  {
   "cell_type": "code",
   "execution_count": 9,
   "id": "f3a7823f",
   "metadata": {},
   "outputs": [
    {
     "data": {
      "text/html": [
       "<div>\n",
       "<style scoped>\n",
       "    .dataframe tbody tr th:only-of-type {\n",
       "        vertical-align: middle;\n",
       "    }\n",
       "\n",
       "    .dataframe tbody tr th {\n",
       "        vertical-align: top;\n",
       "    }\n",
       "\n",
       "    .dataframe thead th {\n",
       "        text-align: right;\n",
       "    }\n",
       "</style>\n",
       "<table border=\"1\" class=\"dataframe\">\n",
       "  <thead>\n",
       "    <tr style=\"text-align: right;\">\n",
       "      <th></th>\n",
       "      <th>C_CUSTOMER_ID</th>\n",
       "      <th>FIRST_NAME_CLEAN</th>\n",
       "      <th>LAST_NAME_CLEAN</th>\n",
       "      <th>IS_PREFERRED_CUST</th>\n",
       "      <th>C_BIRTH_YEAR</th>\n",
       "      <th>C_BIRTH_MONTH</th>\n",
       "      <th>C_BIRTH_DAY</th>\n",
       "      <th>AGE</th>\n",
       "      <th>BIRTH_SEASON</th>\n",
       "      <th>AGE_GROUP</th>\n",
       "      <th>BIRTH_COUNTRY_CLEAN</th>\n",
       "      <th>EMAIL_SAFE</th>\n",
       "      <th>HAS_LOGIN</th>\n",
       "      <th>LAST_REVIEW_DATE</th>\n",
       "      <th>LAST_REVIEW_YEAR</th>\n",
       "      <th>DAYS_SINCE_LAST_REVIEW</th>\n",
       "    </tr>\n",
       "  </thead>\n",
       "  <tbody>\n",
       "    <tr>\n",
       "      <th>0</th>\n",
       "      <td>AAAAAAAABNJALGAA</td>\n",
       "      <td>DAVID</td>\n",
       "      <td>OLSEN</td>\n",
       "      <td>1</td>\n",
       "      <td>1942.0</td>\n",
       "      <td>6.0</td>\n",
       "      <td>8.0</td>\n",
       "      <td>82.0</td>\n",
       "      <td>3</td>\n",
       "      <td>3</td>\n",
       "      <td>SERBIA</td>\n",
       "      <td>David.Olsen@f.com</td>\n",
       "      <td>0</td>\n",
       "      <td>1970-01-29</td>\n",
       "      <td>1970.0</td>\n",
       "      <td>20267.0</td>\n",
       "    </tr>\n",
       "    <tr>\n",
       "      <th>1</th>\n",
       "      <td>AAAAAAAACNJALGAA</td>\n",
       "      <td>IONA</td>\n",
       "      <td>WHITE</td>\n",
       "      <td>1</td>\n",
       "      <td>1952.0</td>\n",
       "      <td>5.0</td>\n",
       "      <td>25.0</td>\n",
       "      <td>72.0</td>\n",
       "      <td>2</td>\n",
       "      <td>3</td>\n",
       "      <td>THAILAND</td>\n",
       "      <td>Iona.White@8PZ6.org</td>\n",
       "      <td>0</td>\n",
       "      <td>1970-01-29</td>\n",
       "      <td>1970.0</td>\n",
       "      <td>20267.0</td>\n",
       "    </tr>\n",
       "    <tr>\n",
       "      <th>2</th>\n",
       "      <td>AAAAAAAADNJALGAA</td>\n",
       "      <td>JAMES</td>\n",
       "      <td>MENDOZA</td>\n",
       "      <td>0</td>\n",
       "      <td>1931.0</td>\n",
       "      <td>5.0</td>\n",
       "      <td>17.0</td>\n",
       "      <td>93.0</td>\n",
       "      <td>2</td>\n",
       "      <td>3</td>\n",
       "      <td>EQUATORIAL GUINEA</td>\n",
       "      <td>James.Mendoza@hSAR30xkQc.com</td>\n",
       "      <td>0</td>\n",
       "      <td>1970-01-29</td>\n",
       "      <td>1970.0</td>\n",
       "      <td>20267.0</td>\n",
       "    </tr>\n",
       "    <tr>\n",
       "      <th>3</th>\n",
       "      <td>AAAAAAAAENJALGAA</td>\n",
       "      <td>None</td>\n",
       "      <td>HUNTER</td>\n",
       "      <td>0</td>\n",
       "      <td>NaN</td>\n",
       "      <td>NaN</td>\n",
       "      <td>NaN</td>\n",
       "      <td>NaN</td>\n",
       "      <td>0</td>\n",
       "      <td>3</td>\n",
       "      <td>None</td>\n",
       "      <td>Bessie.Hunter@SEg5Zt3Inh7.edu</td>\n",
       "      <td>0</td>\n",
       "      <td>None</td>\n",
       "      <td>NaN</td>\n",
       "      <td>NaN</td>\n",
       "    </tr>\n",
       "    <tr>\n",
       "      <th>4</th>\n",
       "      <td>AAAAAAAAFNJALGAA</td>\n",
       "      <td>ROBERT</td>\n",
       "      <td>NELSON</td>\n",
       "      <td>0</td>\n",
       "      <td>1961.0</td>\n",
       "      <td>11.0</td>\n",
       "      <td>18.0</td>\n",
       "      <td>63.0</td>\n",
       "      <td>4</td>\n",
       "      <td>3</td>\n",
       "      <td>URUGUAY</td>\n",
       "      <td>Robert.Nelson@lzzdMmJ.com</td>\n",
       "      <td>0</td>\n",
       "      <td>1970-01-29</td>\n",
       "      <td>1970.0</td>\n",
       "      <td>20267.0</td>\n",
       "    </tr>\n",
       "  </tbody>\n",
       "</table>\n",
       "</div>"
      ],
      "text/plain": [
       "      C_CUSTOMER_ID FIRST_NAME_CLEAN LAST_NAME_CLEAN  IS_PREFERRED_CUST  \\\n",
       "0  AAAAAAAABNJALGAA            DAVID           OLSEN                  1   \n",
       "1  AAAAAAAACNJALGAA             IONA           WHITE                  1   \n",
       "2  AAAAAAAADNJALGAA            JAMES         MENDOZA                  0   \n",
       "3  AAAAAAAAENJALGAA             None          HUNTER                  0   \n",
       "4  AAAAAAAAFNJALGAA           ROBERT          NELSON                  0   \n",
       "\n",
       "   C_BIRTH_YEAR  C_BIRTH_MONTH  C_BIRTH_DAY   AGE  BIRTH_SEASON  AGE_GROUP  \\\n",
       "0        1942.0            6.0          8.0  82.0             3          3   \n",
       "1        1952.0            5.0         25.0  72.0             2          3   \n",
       "2        1931.0            5.0         17.0  93.0             2          3   \n",
       "3           NaN            NaN          NaN   NaN             0          3   \n",
       "4        1961.0           11.0         18.0  63.0             4          3   \n",
       "\n",
       "  BIRTH_COUNTRY_CLEAN                     EMAIL_SAFE  HAS_LOGIN  \\\n",
       "0              SERBIA              David.Olsen@f.com          0   \n",
       "1            THAILAND            Iona.White@8PZ6.org          0   \n",
       "2   EQUATORIAL GUINEA   James.Mendoza@hSAR30xkQc.com          0   \n",
       "3                None  Bessie.Hunter@SEg5Zt3Inh7.edu          0   \n",
       "4             URUGUAY      Robert.Nelson@lzzdMmJ.com          0   \n",
       "\n",
       "  LAST_REVIEW_DATE  LAST_REVIEW_YEAR  DAYS_SINCE_LAST_REVIEW  \n",
       "0       1970-01-29            1970.0                 20267.0  \n",
       "1       1970-01-29            1970.0                 20267.0  \n",
       "2       1970-01-29            1970.0                 20267.0  \n",
       "3             None               NaN                     NaN  \n",
       "4       1970-01-29            1970.0                 20267.0  "
      ]
     },
     "execution_count": 9,
     "metadata": {},
     "output_type": "execute_result"
    }
   ],
   "source": [
    "df.head()"
   ]
  },
  {
   "cell_type": "code",
   "execution_count": 10,
   "id": "ec2e251d",
   "metadata": {},
   "outputs": [
    {
     "data": {
      "text/plain": [
       "(1000, 16)"
      ]
     },
     "execution_count": 10,
     "metadata": {},
     "output_type": "execute_result"
    }
   ],
   "source": [
    "df.shape"
   ]
  },
  {
   "cell_type": "markdown",
   "id": "f3b5696b",
   "metadata": {},
   "source": [
    "lets do some analysis on dataframe values"
   ]
  },
  {
   "cell_type": "code",
   "execution_count": 11,
   "id": "ed3c9019",
   "metadata": {},
   "outputs": [
    {
     "data": {
      "text/plain": [
       "C_CUSTOMER_ID              0\n",
       "FIRST_NAME_CLEAN          33\n",
       "LAST_NAME_CLEAN           34\n",
       "IS_PREFERRED_CUST          0\n",
       "C_BIRTH_YEAR              39\n",
       "C_BIRTH_MONTH             29\n",
       "C_BIRTH_DAY               32\n",
       "AGE                       39\n",
       "BIRTH_SEASON               0\n",
       "AGE_GROUP                  0\n",
       "BIRTH_COUNTRY_CLEAN       31\n",
       "EMAIL_SAFE                 0\n",
       "HAS_LOGIN                  0\n",
       "LAST_REVIEW_DATE          30\n",
       "LAST_REVIEW_YEAR          30\n",
       "DAYS_SINCE_LAST_REVIEW    30\n",
       "dtype: int64"
      ]
     },
     "execution_count": 11,
     "metadata": {},
     "output_type": "execute_result"
    }
   ],
   "source": [
    "# Lets see how many NaN values are there in each column of the data we got\n",
    "df.isnull().sum()"
   ]
  },
  {
   "cell_type": "code",
   "execution_count": 12,
   "id": "eccc8a91",
   "metadata": {},
   "outputs": [
    {
     "data": {
      "text/plain": [
       "(937, 16)"
      ]
     },
     "execution_count": 12,
     "metadata": {},
     "output_type": "execute_result"
    }
   ],
   "source": [
    "# we will drop these values \n",
    "df_clean = df.dropna()\n",
    "df_clean.shape # we had 1000 rows of data"
   ]
  },
  {
   "cell_type": "markdown",
   "id": "373c8a85",
   "metadata": {},
   "source": [
    "We will check what kind of data values are there in the dataframe\n",
    "as we can se in the data types desciption below there are some objects and most of them are numeric data type.\n",
    "There is a BIRTH_COUNTRY_CLEAN column we can map the values to an interger, remove the names columns, Customer id the LAST_REVIEW_DATE column "
   ]
  },
  {
   "cell_type": "code",
   "execution_count": 13,
   "id": "ef8ad8e2",
   "metadata": {},
   "outputs": [
    {
     "data": {
      "text/plain": [
       "C_CUSTOMER_ID              object\n",
       "FIRST_NAME_CLEAN           object\n",
       "LAST_NAME_CLEAN            object\n",
       "IS_PREFERRED_CUST           int64\n",
       "C_BIRTH_YEAR              float64\n",
       "C_BIRTH_MONTH             float64\n",
       "C_BIRTH_DAY               float64\n",
       "AGE                       float64\n",
       "BIRTH_SEASON                int64\n",
       "AGE_GROUP                   int64\n",
       "BIRTH_COUNTRY_CLEAN        object\n",
       "EMAIL_SAFE                 object\n",
       "HAS_LOGIN                   int64\n",
       "LAST_REVIEW_DATE           object\n",
       "LAST_REVIEW_YEAR          float64\n",
       "DAYS_SINCE_LAST_REVIEW    float64\n",
       "dtype: object"
      ]
     },
     "execution_count": 13,
     "metadata": {},
     "output_type": "execute_result"
    }
   ],
   "source": [
    "df_clean.dtypes"
   ]
  },
  {
   "cell_type": "code",
   "execution_count": 14,
   "id": "8b2d669a",
   "metadata": {},
   "outputs": [
    {
     "name": "stderr",
     "output_type": "stream",
     "text": [
      "/var/folders/cz/lky96vlx5b3gt97txms5jymm0000gn/T/ipykernel_99073/2159245035.py:1: SettingWithCopyWarning: \n",
      "A value is trying to be set on a copy of a slice from a DataFrame.\n",
      "Try using .loc[row_indexer,col_indexer] = value instead\n",
      "\n",
      "See the caveats in the documentation: https://pandas.pydata.org/pandas-docs/stable/user_guide/indexing.html#returning-a-view-versus-a-copy\n",
      "  df_clean['BIRTH_COUNTRY_CODE'], unique = pd.factorize(df_clean['BIRTH_COUNTRY_CLEAN'])\n"
     ]
    }
   ],
   "source": [
    "df_clean['BIRTH_COUNTRY_CODE'], unique = pd.factorize(df_clean['BIRTH_COUNTRY_CLEAN'])"
   ]
  },
  {
   "cell_type": "code",
   "execution_count": 15,
   "id": "89e3564e",
   "metadata": {},
   "outputs": [
    {
     "data": {
      "text/html": [
       "<div>\n",
       "<style scoped>\n",
       "    .dataframe tbody tr th:only-of-type {\n",
       "        vertical-align: middle;\n",
       "    }\n",
       "\n",
       "    .dataframe tbody tr th {\n",
       "        vertical-align: top;\n",
       "    }\n",
       "\n",
       "    .dataframe thead th {\n",
       "        text-align: right;\n",
       "    }\n",
       "</style>\n",
       "<table border=\"1\" class=\"dataframe\">\n",
       "  <thead>\n",
       "    <tr style=\"text-align: right;\">\n",
       "      <th></th>\n",
       "      <th>C_CUSTOMER_ID</th>\n",
       "      <th>FIRST_NAME_CLEAN</th>\n",
       "      <th>LAST_NAME_CLEAN</th>\n",
       "      <th>IS_PREFERRED_CUST</th>\n",
       "      <th>C_BIRTH_YEAR</th>\n",
       "      <th>C_BIRTH_MONTH</th>\n",
       "      <th>C_BIRTH_DAY</th>\n",
       "      <th>AGE</th>\n",
       "      <th>BIRTH_SEASON</th>\n",
       "      <th>AGE_GROUP</th>\n",
       "      <th>BIRTH_COUNTRY_CLEAN</th>\n",
       "      <th>EMAIL_SAFE</th>\n",
       "      <th>HAS_LOGIN</th>\n",
       "      <th>LAST_REVIEW_DATE</th>\n",
       "      <th>LAST_REVIEW_YEAR</th>\n",
       "      <th>DAYS_SINCE_LAST_REVIEW</th>\n",
       "      <th>BIRTH_COUNTRY_CODE</th>\n",
       "    </tr>\n",
       "  </thead>\n",
       "  <tbody>\n",
       "    <tr>\n",
       "      <th>0</th>\n",
       "      <td>AAAAAAAABNJALGAA</td>\n",
       "      <td>DAVID</td>\n",
       "      <td>OLSEN</td>\n",
       "      <td>1</td>\n",
       "      <td>1942.0</td>\n",
       "      <td>6.0</td>\n",
       "      <td>8.0</td>\n",
       "      <td>82.0</td>\n",
       "      <td>3</td>\n",
       "      <td>3</td>\n",
       "      <td>SERBIA</td>\n",
       "      <td>David.Olsen@f.com</td>\n",
       "      <td>0</td>\n",
       "      <td>1970-01-29</td>\n",
       "      <td>1970.0</td>\n",
       "      <td>20267.0</td>\n",
       "      <td>0</td>\n",
       "    </tr>\n",
       "    <tr>\n",
       "      <th>1</th>\n",
       "      <td>AAAAAAAACNJALGAA</td>\n",
       "      <td>IONA</td>\n",
       "      <td>WHITE</td>\n",
       "      <td>1</td>\n",
       "      <td>1952.0</td>\n",
       "      <td>5.0</td>\n",
       "      <td>25.0</td>\n",
       "      <td>72.0</td>\n",
       "      <td>2</td>\n",
       "      <td>3</td>\n",
       "      <td>THAILAND</td>\n",
       "      <td>Iona.White@8PZ6.org</td>\n",
       "      <td>0</td>\n",
       "      <td>1970-01-29</td>\n",
       "      <td>1970.0</td>\n",
       "      <td>20267.0</td>\n",
       "      <td>1</td>\n",
       "    </tr>\n",
       "    <tr>\n",
       "      <th>2</th>\n",
       "      <td>AAAAAAAADNJALGAA</td>\n",
       "      <td>JAMES</td>\n",
       "      <td>MENDOZA</td>\n",
       "      <td>0</td>\n",
       "      <td>1931.0</td>\n",
       "      <td>5.0</td>\n",
       "      <td>17.0</td>\n",
       "      <td>93.0</td>\n",
       "      <td>2</td>\n",
       "      <td>3</td>\n",
       "      <td>EQUATORIAL GUINEA</td>\n",
       "      <td>James.Mendoza@hSAR30xkQc.com</td>\n",
       "      <td>0</td>\n",
       "      <td>1970-01-29</td>\n",
       "      <td>1970.0</td>\n",
       "      <td>20267.0</td>\n",
       "      <td>2</td>\n",
       "    </tr>\n",
       "    <tr>\n",
       "      <th>4</th>\n",
       "      <td>AAAAAAAAFNJALGAA</td>\n",
       "      <td>ROBERT</td>\n",
       "      <td>NELSON</td>\n",
       "      <td>0</td>\n",
       "      <td>1961.0</td>\n",
       "      <td>11.0</td>\n",
       "      <td>18.0</td>\n",
       "      <td>63.0</td>\n",
       "      <td>4</td>\n",
       "      <td>3</td>\n",
       "      <td>URUGUAY</td>\n",
       "      <td>Robert.Nelson@lzzdMmJ.com</td>\n",
       "      <td>0</td>\n",
       "      <td>1970-01-29</td>\n",
       "      <td>1970.0</td>\n",
       "      <td>20267.0</td>\n",
       "      <td>3</td>\n",
       "    </tr>\n",
       "    <tr>\n",
       "      <th>5</th>\n",
       "      <td>AAAAAAAAGNJALGAA</td>\n",
       "      <td>LOIS</td>\n",
       "      <td>JONES</td>\n",
       "      <td>1</td>\n",
       "      <td>1983.0</td>\n",
       "      <td>5.0</td>\n",
       "      <td>23.0</td>\n",
       "      <td>41.0</td>\n",
       "      <td>2</td>\n",
       "      <td>2</td>\n",
       "      <td>KYRGYZSTAN</td>\n",
       "      <td>Lois.Jones@lvD.org</td>\n",
       "      <td>0</td>\n",
       "      <td>1970-01-29</td>\n",
       "      <td>1970.0</td>\n",
       "      <td>20267.0</td>\n",
       "      <td>4</td>\n",
       "    </tr>\n",
       "  </tbody>\n",
       "</table>\n",
       "</div>"
      ],
      "text/plain": [
       "      C_CUSTOMER_ID FIRST_NAME_CLEAN LAST_NAME_CLEAN  IS_PREFERRED_CUST  \\\n",
       "0  AAAAAAAABNJALGAA            DAVID           OLSEN                  1   \n",
       "1  AAAAAAAACNJALGAA             IONA           WHITE                  1   \n",
       "2  AAAAAAAADNJALGAA            JAMES         MENDOZA                  0   \n",
       "4  AAAAAAAAFNJALGAA           ROBERT          NELSON                  0   \n",
       "5  AAAAAAAAGNJALGAA             LOIS           JONES                  1   \n",
       "\n",
       "   C_BIRTH_YEAR  C_BIRTH_MONTH  C_BIRTH_DAY   AGE  BIRTH_SEASON  AGE_GROUP  \\\n",
       "0        1942.0            6.0          8.0  82.0             3          3   \n",
       "1        1952.0            5.0         25.0  72.0             2          3   \n",
       "2        1931.0            5.0         17.0  93.0             2          3   \n",
       "4        1961.0           11.0         18.0  63.0             4          3   \n",
       "5        1983.0            5.0         23.0  41.0             2          2   \n",
       "\n",
       "  BIRTH_COUNTRY_CLEAN                    EMAIL_SAFE  HAS_LOGIN  \\\n",
       "0              SERBIA             David.Olsen@f.com          0   \n",
       "1            THAILAND           Iona.White@8PZ6.org          0   \n",
       "2   EQUATORIAL GUINEA  James.Mendoza@hSAR30xkQc.com          0   \n",
       "4             URUGUAY     Robert.Nelson@lzzdMmJ.com          0   \n",
       "5          KYRGYZSTAN            Lois.Jones@lvD.org          0   \n",
       "\n",
       "  LAST_REVIEW_DATE  LAST_REVIEW_YEAR  DAYS_SINCE_LAST_REVIEW  \\\n",
       "0       1970-01-29            1970.0                 20267.0   \n",
       "1       1970-01-29            1970.0                 20267.0   \n",
       "2       1970-01-29            1970.0                 20267.0   \n",
       "4       1970-01-29            1970.0                 20267.0   \n",
       "5       1970-01-29            1970.0                 20267.0   \n",
       "\n",
       "   BIRTH_COUNTRY_CODE  \n",
       "0                   0  \n",
       "1                   1  \n",
       "2                   2  \n",
       "4                   3  \n",
       "5                   4  "
      ]
     },
     "execution_count": 15,
     "metadata": {},
     "output_type": "execute_result"
    }
   ],
   "source": [
    "df_clean.head()"
   ]
  },
  {
   "cell_type": "code",
   "execution_count": 16,
   "id": "d38369d3",
   "metadata": {},
   "outputs": [
    {
     "data": {
      "text/plain": [
       "C_CUSTOMER_ID              object\n",
       "FIRST_NAME_CLEAN           object\n",
       "LAST_NAME_CLEAN            object\n",
       "IS_PREFERRED_CUST           int64\n",
       "C_BIRTH_YEAR              float64\n",
       "C_BIRTH_MONTH             float64\n",
       "C_BIRTH_DAY               float64\n",
       "AGE                       float64\n",
       "BIRTH_SEASON                int64\n",
       "AGE_GROUP                   int64\n",
       "BIRTH_COUNTRY_CLEAN        object\n",
       "EMAIL_SAFE                 object\n",
       "HAS_LOGIN                   int64\n",
       "LAST_REVIEW_DATE           object\n",
       "LAST_REVIEW_YEAR          float64\n",
       "DAYS_SINCE_LAST_REVIEW    float64\n",
       "BIRTH_COUNTRY_CODE          int64\n",
       "dtype: object"
      ]
     },
     "execution_count": 16,
     "metadata": {},
     "output_type": "execute_result"
    }
   ],
   "source": [
    "df_clean.dtypes"
   ]
  },
  {
   "cell_type": "code",
   "execution_count": 17,
   "id": "64d60b85",
   "metadata": {},
   "outputs": [
    {
     "data": {
      "text/plain": [
       "(937, 17)"
      ]
     },
     "execution_count": 17,
     "metadata": {},
     "output_type": "execute_result"
    }
   ],
   "source": [
    "df_clean.shape"
   ]
  },
  {
   "cell_type": "code",
   "execution_count": 18,
   "id": "47f847a7",
   "metadata": {},
   "outputs": [],
   "source": [
    "# Dropping the columns that are string or object \n",
    "df_final = df_clean.drop(columns=df_clean.select_dtypes(include=['object']).columns)\n",
    "# except the C_CUSTOMER_ID\n",
    "df_final['CUSTOMER_ID'] = df_clean['C_CUSTOMER_ID']"
   ]
  },
  {
   "cell_type": "code",
   "execution_count": 19,
   "id": "a448c483",
   "metadata": {},
   "outputs": [
    {
     "data": {
      "text/html": [
       "<div>\n",
       "<style scoped>\n",
       "    .dataframe tbody tr th:only-of-type {\n",
       "        vertical-align: middle;\n",
       "    }\n",
       "\n",
       "    .dataframe tbody tr th {\n",
       "        vertical-align: top;\n",
       "    }\n",
       "\n",
       "    .dataframe thead th {\n",
       "        text-align: right;\n",
       "    }\n",
       "</style>\n",
       "<table border=\"1\" class=\"dataframe\">\n",
       "  <thead>\n",
       "    <tr style=\"text-align: right;\">\n",
       "      <th></th>\n",
       "      <th>IS_PREFERRED_CUST</th>\n",
       "      <th>C_BIRTH_YEAR</th>\n",
       "      <th>C_BIRTH_MONTH</th>\n",
       "      <th>C_BIRTH_DAY</th>\n",
       "      <th>AGE</th>\n",
       "      <th>BIRTH_SEASON</th>\n",
       "      <th>AGE_GROUP</th>\n",
       "      <th>HAS_LOGIN</th>\n",
       "      <th>LAST_REVIEW_YEAR</th>\n",
       "      <th>DAYS_SINCE_LAST_REVIEW</th>\n",
       "      <th>BIRTH_COUNTRY_CODE</th>\n",
       "      <th>CUSTOMER_ID</th>\n",
       "    </tr>\n",
       "  </thead>\n",
       "  <tbody>\n",
       "    <tr>\n",
       "      <th>0</th>\n",
       "      <td>1</td>\n",
       "      <td>1942.0</td>\n",
       "      <td>6.0</td>\n",
       "      <td>8.0</td>\n",
       "      <td>82.0</td>\n",
       "      <td>3</td>\n",
       "      <td>3</td>\n",
       "      <td>0</td>\n",
       "      <td>1970.0</td>\n",
       "      <td>20267.0</td>\n",
       "      <td>0</td>\n",
       "      <td>AAAAAAAABNJALGAA</td>\n",
       "    </tr>\n",
       "    <tr>\n",
       "      <th>1</th>\n",
       "      <td>1</td>\n",
       "      <td>1952.0</td>\n",
       "      <td>5.0</td>\n",
       "      <td>25.0</td>\n",
       "      <td>72.0</td>\n",
       "      <td>2</td>\n",
       "      <td>3</td>\n",
       "      <td>0</td>\n",
       "      <td>1970.0</td>\n",
       "      <td>20267.0</td>\n",
       "      <td>1</td>\n",
       "      <td>AAAAAAAACNJALGAA</td>\n",
       "    </tr>\n",
       "    <tr>\n",
       "      <th>2</th>\n",
       "      <td>0</td>\n",
       "      <td>1931.0</td>\n",
       "      <td>5.0</td>\n",
       "      <td>17.0</td>\n",
       "      <td>93.0</td>\n",
       "      <td>2</td>\n",
       "      <td>3</td>\n",
       "      <td>0</td>\n",
       "      <td>1970.0</td>\n",
       "      <td>20267.0</td>\n",
       "      <td>2</td>\n",
       "      <td>AAAAAAAADNJALGAA</td>\n",
       "    </tr>\n",
       "    <tr>\n",
       "      <th>4</th>\n",
       "      <td>0</td>\n",
       "      <td>1961.0</td>\n",
       "      <td>11.0</td>\n",
       "      <td>18.0</td>\n",
       "      <td>63.0</td>\n",
       "      <td>4</td>\n",
       "      <td>3</td>\n",
       "      <td>0</td>\n",
       "      <td>1970.0</td>\n",
       "      <td>20267.0</td>\n",
       "      <td>3</td>\n",
       "      <td>AAAAAAAAFNJALGAA</td>\n",
       "    </tr>\n",
       "    <tr>\n",
       "      <th>5</th>\n",
       "      <td>1</td>\n",
       "      <td>1983.0</td>\n",
       "      <td>5.0</td>\n",
       "      <td>23.0</td>\n",
       "      <td>41.0</td>\n",
       "      <td>2</td>\n",
       "      <td>2</td>\n",
       "      <td>0</td>\n",
       "      <td>1970.0</td>\n",
       "      <td>20267.0</td>\n",
       "      <td>4</td>\n",
       "      <td>AAAAAAAAGNJALGAA</td>\n",
       "    </tr>\n",
       "    <tr>\n",
       "      <th>...</th>\n",
       "      <td>...</td>\n",
       "      <td>...</td>\n",
       "      <td>...</td>\n",
       "      <td>...</td>\n",
       "      <td>...</td>\n",
       "      <td>...</td>\n",
       "      <td>...</td>\n",
       "      <td>...</td>\n",
       "      <td>...</td>\n",
       "      <td>...</td>\n",
       "      <td>...</td>\n",
       "      <td>...</td>\n",
       "    </tr>\n",
       "    <tr>\n",
       "      <th>995</th>\n",
       "      <td>1</td>\n",
       "      <td>1978.0</td>\n",
       "      <td>9.0</td>\n",
       "      <td>24.0</td>\n",
       "      <td>46.0</td>\n",
       "      <td>4</td>\n",
       "      <td>2</td>\n",
       "      <td>0</td>\n",
       "      <td>1970.0</td>\n",
       "      <td>20267.0</td>\n",
       "      <td>120</td>\n",
       "      <td>AAAAAAAAELNALGAA</td>\n",
       "    </tr>\n",
       "    <tr>\n",
       "      <th>996</th>\n",
       "      <td>1</td>\n",
       "      <td>1974.0</td>\n",
       "      <td>2.0</td>\n",
       "      <td>28.0</td>\n",
       "      <td>50.0</td>\n",
       "      <td>1</td>\n",
       "      <td>3</td>\n",
       "      <td>0</td>\n",
       "      <td>1970.0</td>\n",
       "      <td>20267.0</td>\n",
       "      <td>21</td>\n",
       "      <td>AAAAAAAAFLNALGAA</td>\n",
       "    </tr>\n",
       "    <tr>\n",
       "      <th>997</th>\n",
       "      <td>0</td>\n",
       "      <td>1938.0</td>\n",
       "      <td>3.0</td>\n",
       "      <td>13.0</td>\n",
       "      <td>86.0</td>\n",
       "      <td>2</td>\n",
       "      <td>3</td>\n",
       "      <td>0</td>\n",
       "      <td>1970.0</td>\n",
       "      <td>20267.0</td>\n",
       "      <td>164</td>\n",
       "      <td>AAAAAAAAGLNALGAA</td>\n",
       "    </tr>\n",
       "    <tr>\n",
       "      <th>998</th>\n",
       "      <td>0</td>\n",
       "      <td>1961.0</td>\n",
       "      <td>9.0</td>\n",
       "      <td>6.0</td>\n",
       "      <td>63.0</td>\n",
       "      <td>4</td>\n",
       "      <td>3</td>\n",
       "      <td>0</td>\n",
       "      <td>1970.0</td>\n",
       "      <td>20267.0</td>\n",
       "      <td>49</td>\n",
       "      <td>AAAAAAAAHLNALGAA</td>\n",
       "    </tr>\n",
       "    <tr>\n",
       "      <th>999</th>\n",
       "      <td>1</td>\n",
       "      <td>1956.0</td>\n",
       "      <td>8.0</td>\n",
       "      <td>6.0</td>\n",
       "      <td>68.0</td>\n",
       "      <td>3</td>\n",
       "      <td>3</td>\n",
       "      <td>0</td>\n",
       "      <td>1970.0</td>\n",
       "      <td>20267.0</td>\n",
       "      <td>69</td>\n",
       "      <td>AAAAAAAAILNALGAA</td>\n",
       "    </tr>\n",
       "  </tbody>\n",
       "</table>\n",
       "<p>937 rows × 12 columns</p>\n",
       "</div>"
      ],
      "text/plain": [
       "     IS_PREFERRED_CUST  C_BIRTH_YEAR  C_BIRTH_MONTH  C_BIRTH_DAY   AGE  \\\n",
       "0                    1        1942.0            6.0          8.0  82.0   \n",
       "1                    1        1952.0            5.0         25.0  72.0   \n",
       "2                    0        1931.0            5.0         17.0  93.0   \n",
       "4                    0        1961.0           11.0         18.0  63.0   \n",
       "5                    1        1983.0            5.0         23.0  41.0   \n",
       "..                 ...           ...            ...          ...   ...   \n",
       "995                  1        1978.0            9.0         24.0  46.0   \n",
       "996                  1        1974.0            2.0         28.0  50.0   \n",
       "997                  0        1938.0            3.0         13.0  86.0   \n",
       "998                  0        1961.0            9.0          6.0  63.0   \n",
       "999                  1        1956.0            8.0          6.0  68.0   \n",
       "\n",
       "     BIRTH_SEASON  AGE_GROUP  HAS_LOGIN  LAST_REVIEW_YEAR  \\\n",
       "0               3          3          0            1970.0   \n",
       "1               2          3          0            1970.0   \n",
       "2               2          3          0            1970.0   \n",
       "4               4          3          0            1970.0   \n",
       "5               2          2          0            1970.0   \n",
       "..            ...        ...        ...               ...   \n",
       "995             4          2          0            1970.0   \n",
       "996             1          3          0            1970.0   \n",
       "997             2          3          0            1970.0   \n",
       "998             4          3          0            1970.0   \n",
       "999             3          3          0            1970.0   \n",
       "\n",
       "     DAYS_SINCE_LAST_REVIEW  BIRTH_COUNTRY_CODE       CUSTOMER_ID  \n",
       "0                   20267.0                   0  AAAAAAAABNJALGAA  \n",
       "1                   20267.0                   1  AAAAAAAACNJALGAA  \n",
       "2                   20267.0                   2  AAAAAAAADNJALGAA  \n",
       "4                   20267.0                   3  AAAAAAAAFNJALGAA  \n",
       "5                   20267.0                   4  AAAAAAAAGNJALGAA  \n",
       "..                      ...                 ...               ...  \n",
       "995                 20267.0                 120  AAAAAAAAELNALGAA  \n",
       "996                 20267.0                  21  AAAAAAAAFLNALGAA  \n",
       "997                 20267.0                 164  AAAAAAAAGLNALGAA  \n",
       "998                 20267.0                  49  AAAAAAAAHLNALGAA  \n",
       "999                 20267.0                  69  AAAAAAAAILNALGAA  \n",
       "\n",
       "[937 rows x 12 columns]"
      ]
     },
     "execution_count": 19,
     "metadata": {},
     "output_type": "execute_result"
    }
   ],
   "source": [
    "df_final"
   ]
  },
  {
   "cell_type": "code",
   "execution_count": 20,
   "id": "9078c090",
   "metadata": {},
   "outputs": [
    {
     "data": {
      "text/plain": [
       "Index(['IS_PREFERRED_CUST', 'C_BIRTH_YEAR', 'C_BIRTH_MONTH', 'C_BIRTH_DAY',\n",
       "       'AGE', 'BIRTH_SEASON', 'AGE_GROUP', 'HAS_LOGIN', 'LAST_REVIEW_YEAR',\n",
       "       'DAYS_SINCE_LAST_REVIEW', 'BIRTH_COUNTRY_CODE', 'CUSTOMER_ID'],\n",
       "      dtype='object')"
      ]
     },
     "execution_count": 20,
     "metadata": {},
     "output_type": "execute_result"
    }
   ],
   "source": [
    "df_final.columns"
   ]
  },
  {
   "cell_type": "markdown",
   "id": "ff53d70b",
   "metadata": {},
   "source": [
    "# Storing the data in SnowFlake Feature Store"
   ]
  },
  {
   "cell_type": "code",
   "execution_count": 21,
   "id": "35365915",
   "metadata": {},
   "outputs": [],
   "source": [
    "from snowflake.snowpark import Session\n",
    "\n",
    "connection_parameters = {\n",
    "    \"user\": user_name,\n",
    "    \"password\": password,\n",
    "    \"account\": account,\n",
    "    \"warehouse\": warehouse,\n",
    "    \"database\": \"VISTORA\",\n",
    "    \"schema\": \"VISTORA_SCHEMA\"\n",
    "}\n",
    "\n",
    "session = Session.builder.configs(connection_parameters).create()"
   ]
  },
  {
   "cell_type": "code",
   "execution_count": 22,
   "id": "99d38f87",
   "metadata": {},
   "outputs": [],
   "source": [
    "from snowflake.ml.feature_store import FeatureStore, CreationMode"
   ]
  },
  {
   "cell_type": "code",
   "execution_count": 23,
   "id": "8a5d910b",
   "metadata": {},
   "outputs": [],
   "source": [
    "from snowflake.connector.pandas_tools import write_pandas"
   ]
  },
  {
   "cell_type": "code",
   "execution_count": 24,
   "id": "e0130f17",
   "metadata": {},
   "outputs": [],
   "source": [
    "\n",
    "fs = FeatureStore(\n",
    "    session=session,\n",
    "    database=\"VISTORA\",\n",
    "    name=\"VISTORA_SCHEMA\",    \n",
    "    default_warehouse=warehouse,\n",
    "    creation_mode=CreationMode.CREATE_IF_NOT_EXIST  # Creates if it doesn't exist\n",
    ")\n"
   ]
  },
  {
   "cell_type": "code",
   "execution_count": 25,
   "id": "8eca66c0",
   "metadata": {},
   "outputs": [
    {
     "name": "stderr",
     "output_type": "stream",
     "text": [
      "/Users/rajveeryadav/Desktop/Vistora/venv/lib/python3.9/site-packages/snowflake/ml/feature_store/feature_store.py:186: UserWarning: Entity CUSTOMER already exists. Skip registration.\n",
      "  return f(self, *args, **kargs)\n"
     ]
    },
    {
     "data": {
      "text/plain": [
       "Entity(name=CUSTOMER, join_keys=['CUSTOMER_ID'], owner=None, desc=Unique customer identifier)"
      ]
     },
     "execution_count": 25,
     "metadata": {},
     "output_type": "execute_result"
    }
   ],
   "source": [
    "from snowflake.ml.feature_store import Entity\n",
    "\n",
    "entity = Entity(name=\"customer\", join_keys=[\"CUSTOMER_ID\"], desc=\"Unique customer identifier\")\n",
    "fs.register_entity(entity)\n"
   ]
  },
  {
   "cell_type": "code",
   "execution_count": 26,
   "id": "b3e3c3ba",
   "metadata": {},
   "outputs": [
    {
     "name": "stderr",
     "output_type": "stream",
     "text": [
      "/var/folders/cz/lky96vlx5b3gt97txms5jymm0000gn/T/ipykernel_99073/3570353212.py:1: UserWarning: Pandas Dataframe has non-standard index of type <class 'pandas.core.indexes.base.Index'> which will not be written. Consider changing the index to pd.RangeIndex(start=0,...,step=1) or call reset_index() to keep index as column(s)\n",
      "  write_pandas(conn, df_final, 'VISTORA_FEATURE_TABLE', database=connection_parameters[\"database\"], schema=connection_parameters[\"schema\"], overwrite=True)\n"
     ]
    },
    {
     "data": {
      "text/plain": [
       "(True,\n",
       " 1,\n",
       " 937,\n",
       " [('snowpark_temp_stage_k3hsvgothe/file0.txt',\n",
       "   'LOADED',\n",
       "   937,\n",
       "   937,\n",
       "   1,\n",
       "   0,\n",
       "   None,\n",
       "   None,\n",
       "   None,\n",
       "   None)])"
      ]
     },
     "execution_count": 26,
     "metadata": {},
     "output_type": "execute_result"
    }
   ],
   "source": [
    "write_pandas(conn, df_final, 'VISTORA_FEATURE_TABLE', database=connection_parameters[\"database\"], schema=connection_parameters[\"schema\"], overwrite=True)"
   ]
  },
  {
   "cell_type": "code",
   "execution_count": null,
   "id": "487a6ef4",
   "metadata": {},
   "outputs": [],
   "source": []
  }
 ],
 "metadata": {
  "kernelspec": {
   "display_name": "venv",
   "language": "python",
   "name": "python3"
  },
  "language_info": {
   "codemirror_mode": {
    "name": "ipython",
    "version": 3
   },
   "file_extension": ".py",
   "mimetype": "text/x-python",
   "name": "python",
   "nbconvert_exporter": "python",
   "pygments_lexer": "ipython3",
   "version": "3.9.10"
  }
 },
 "nbformat": 4,
 "nbformat_minor": 5
}
